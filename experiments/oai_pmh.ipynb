{
 "cells": [
  {
   "cell_type": "markdown",
   "metadata": {},
   "source": [
    "# Hypothesis\n",
    "We believed that with oai-pmh we could implement some kind of mechanism to find and download metadata.\n",
    "\n",
    "**Related story:** Download from different repositories\n",
    "### Assumptions:\n",
    "1. We have read that it could be possible to pull data by taking advantage of oai-pmh here in this document:\n",
    "https://wiki.surfnet.nl/display/standards/PEER+Use+of+SWORD+deposit+protocol\n",
    "2. Given that a repository is compliant with oai-pmh protocol.\n",
    "3. When user executes command to download\n",
    "4. JupyFAIR uses oai-pmh to locate an \"article\" and downloaded in the current working directory \n",
    "\n",
    "## Experiment\n",
    "- Try this with different repositories (4TU, Zenodo, others):\n",
    "    - Download metadata using oai-pmh clients or example packages and inspect what the metadata contains.\n",
    "    - Explore how is structured the metadata\n",
    "    - Explore oai-pmh via the web interface\n",
    "    - Explore oai-pm with python and available python packages.\n",
    "\n",
    "## Status\n",
    "ongoing\n",
    "\n",
    "## We are right if\n",
    "- There is a file location in the resurce description that we can download.\n",
    "\n",
    "## Learnings\n",
    "- There is no direct mechanism \n",
    "- oai-pmh also provides an nice metadata web - presentation layer, where different formats are shown\n",
    "https://api.figshare.com/v2/oai?verb=GetRecord&metadataPrefix=rdf&identifier=oai:figshare.com:article/19430867\n",
    "- Another layer would need to be implemented to download the article, via the api. I havent been able to find any download link to an item inside the metadata.\n"
   ]
  },
  {
   "cell_type": "code",
   "execution_count": 1,
   "metadata": {},
   "outputs": [],
   "source": [
    "import config as config # data\n",
    "from src.figshare import *\n",
    "import json"
   ]
  },
  {
   "cell_type": "code",
   "execution_count": 2,
   "metadata": {},
   "outputs": [],
   "source": [
    "# We use Beautiful soup to format xml\n",
    "from bs4 import BeautifulSoup"
   ]
  },
  {
   "cell_type": "code",
   "execution_count": 3,
   "metadata": {},
   "outputs": [],
   "source": [
    "# Reuses requests in fighsare module\n",
    "def get_xml(url):\n",
    "    res = raw_issue_request('GET',url)\n",
    "    bs = BeautifulSoup(res.content, 'xml')\n",
    "    bs = bs.prettify()\n",
    "    return bs"
   ]
  },
  {
   "cell_type": "markdown",
   "metadata": {},
   "source": [
    "### The following request doesnt work in notebook, but it works in the browser"
   ]
  },
  {
   "cell_type": "code",
   "execution_count": 12,
   "metadata": {},
   "outputs": [
    {
     "name": "stdout",
     "output_type": "stream",
     "text": [
      "<?xml version=\"1.0\" encoding=\"utf-8\"?>\n",
      "<?xml-stylesheet type=\"text/xsl\" href=\"/v2/static/oai2.xsl\"?>\n",
      "<OAI-PMH xmlns=\"http://www.openarchives.org/OAI/2.0/\" xmlns:xsi=\"http://www.w3.org/2001/XMLSchema-instance\" xsi:schemaLocation=\"http://www.openarchives.org/OAI/2.0/ http://www.openarchives.org/OAI/2.0/OAI-PMH.xsd\">\n",
      " <responseDate>\n",
      "  2022-03-28T09:49:29Z\n",
      " </responseDate>\n",
      " <request>\n",
      "  https://api.figshare.com/v2/oai\n",
      " </request>\n",
      " <error code=\"badVerb\">\n",
      "  Invalid value for argument: verb\n",
      " </error>\n",
      "</OAI-PMH>\n"
     ]
    }
   ],
   "source": [
    "res = get_xml('https://api.figshare.com/v2/oai?verb=getRecord=19430867')\n",
    "print(res)"
   ]
  },
  {
   "cell_type": "markdown",
   "metadata": {},
   "source": [
    "# Experiment with Zenodo"
   ]
  },
  {
   "cell_type": "code",
   "execution_count": 5,
   "metadata": {},
   "outputs": [],
   "source": [
    "from sickle import Sickle"
   ]
  },
  {
   "cell_type": "code",
   "execution_count": 6,
   "metadata": {},
   "outputs": [
    {
     "data": {
      "text/plain": [
       "<sickle.app.Sickle at 0x7fe712ddb460>"
      ]
     },
     "execution_count": 6,
     "metadata": {},
     "output_type": "execute_result"
    }
   ],
   "source": [
    "sickle = Sickle('https://zenodo.org/oai2d')\n",
    "sickle"
   ]
  },
  {
   "cell_type": "markdown",
   "metadata": {},
   "source": [
    "Here we get a list of records and then select one to inspect the metadata."
   ]
  },
  {
   "cell_type": "code",
   "execution_count": 14,
   "metadata": {},
   "outputs": [
    {
     "data": {
      "text/plain": [
       "{'creator': ['Green, Paul J.'],\n",
       " 'date': ['2013-05-07'],\n",
       " 'description': ['The Chandra Newsletter contains articles about the CXC and the Chandra mission. The Chandra Newsletter appears once a year and is edited by Paul J. Green, with editorial assistance and layout by Evan Tingle. We welcome contributions from readers. Comments on the newsletter, or corrections and additions to the hardcopy mailing list should be sent to: chandranews@head.cfa.harvard.edu.'],\n",
       " 'identifier': ['https://zenodo.org/record/6738',\n",
       "  '10.5281/zenodo.6738',\n",
       "  'oai:zenodo.org:6738'],\n",
       " 'relation': ['url:https://zenodo.org/communities/zenodo',\n",
       "  'url:https://zenodo.org/communities/cfa'],\n",
       " 'rights': ['info:eu-repo/semantics/openAccess',\n",
       "  'https://creativecommons.org/publicdomain/zero/1.0/legalcode'],\n",
       " 'source': ['Chandra X-ray Newsletter 20(Spring 2013) 32 (2013)'],\n",
       " 'subject': ['Chandra X-ray Center', 'CXC'],\n",
       " 'title': ['Chandra News'],\n",
       " 'type': ['info:eu-repo/semantics/other', 'publication-other']}"
      ]
     },
     "execution_count": 14,
     "metadata": {},
     "output_type": "execute_result"
    }
   ],
   "source": [
    "records = sickle.ListRecords(metadataPrefix='oai_dc', set='user-cfa')\n",
    "record = records.next()\n",
    "record.metadata"
   ]
  }
 ],
 "metadata": {
  "interpreter": {
   "hash": "5fa7eafc8345e54ed644cd7fb817f36589dfab5ea7a796ea493ae21cf4c8e3fc"
  },
  "kernelspec": {
   "display_name": "Python 3.9.5 ('fair_env': venv)",
   "language": "python",
   "name": "python3"
  },
  "language_info": {
   "codemirror_mode": {
    "name": "ipython",
    "version": 3
   },
   "file_extension": ".py",
   "mimetype": "text/x-python",
   "name": "python",
   "nbconvert_exporter": "python",
   "pygments_lexer": "ipython3",
   "version": "3.9.5"
  },
  "orig_nbformat": 4
 },
 "nbformat": 4,
 "nbformat_minor": 2
}
